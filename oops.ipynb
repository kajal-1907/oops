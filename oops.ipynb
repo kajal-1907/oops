{
 "cells": [
  {
   "cell_type": "markdown",
   "id": "5eb02860-1921-47a2-98fb-b2c0cc1ec520",
   "metadata": {},
   "source": [
    "1.What are the five key concepts of Object-Oriented Programming (OOP)?\n",
    "Answer - The five key concepts of Object-Oriented Programming (OOPs) are:\n",
    "\n",
    "Encapsulation: Bundling data and methods that operate on the data into a single unit or class, and restricting access to some components to protect the integrity of the object. This is typically achieved through access modifiers like private, protected, and public.\n",
    "\n",
    "Abstraction: Hiding the complex implementation details of a class and exposing only the necessary functionality. This simplifies interaction with the object and reduces complexity.\n",
    "\n",
    "Inheritance: Allowing one class to inherit properties and methods from another class. This promotes code reuse and establishes a parent-child relationship between classes.\n",
    "\n",
    "Polymorphism: The ability of different classes to be treated as instances of the same class through a common interface. It allows for one method to be used in different ways, depending on the object that is calling it (overloading and overriding).\n",
    "\n",
    "Association: Defines the relationships between objects, where one object uses or interacts with another. There are various types of associations, including aggregation and composition."
   ]
  },
  {
   "cell_type": "markdown",
   "id": "64361a67-543e-46f5-b234-032feb5f94d1",
   "metadata": {},
   "source": [
    "2.Write a Python class for a Car with attributes for make, model, and year. Include a method to display the car's information."
   ]
  },
  {
   "cell_type": "code",
   "execution_count": 2,
   "id": "7efe5cf5-b60c-4291-9bb1-622856b1003b",
   "metadata": {},
   "outputs": [
    {
     "name": "stdout",
     "output_type": "stream",
     "text": [
      "Car Info: 2022 Toyota Innova\n"
     ]
    }
   ],
   "source": [
    "class Car:\n",
    "    def __init__(self, make, model, year):\n",
    "        self.make = make\n",
    "        self.model = model\n",
    "        self.year = year\n",
    "\n",
    "    def display_info(self):\n",
    "        print(f\"Car Info: {self.year} {self.make} {self.model}\")\n",
    "\n",
    "my_car = Car(\"Toyota\", \"Innova\", 2022)\n",
    "my_car.display_info()\n"
   ]
  },
  {
   "cell_type": "markdown",
   "id": "90cc053b-0237-42b5-a3c1-93e20253e85d",
   "metadata": {},
   "source": [
    "3.Explain the difference between instance methods and class methods. Provide an example of each."
   ]
  },
  {
   "cell_type": "markdown",
   "id": "f50ddb63-b0dd-45fd-95d9-43a022e9f86a",
   "metadata": {},
   "source": [
    " Instance Methods - These methods are used to operate on an instance of a class (an object).\n",
    "\n",
    "They take self as the first parameter, which refers to the instance of the class.\n",
    "\n",
    "Instance methods can access and modify instance variables.\n",
    "\n",
    "Class Methods - These methods are bound to the class itself rather than an instance.\n",
    "\n",
    "They take cls as the first parameter, which refers to the class.\n",
    "\n",
    "Class methods are decorated with @classmethod."
   ]
  },
  {
   "cell_type": "code",
   "execution_count": 5,
   "id": "3a152f35-7084-4c5a-a400-e8edf239aec0",
   "metadata": {},
   "outputs": [
    {
     "name": "stdout",
     "output_type": "stream",
     "text": [
      "Buddy is barking!\n"
     ]
    }
   ],
   "source": [
    "# instance method\n",
    "class Dog:\n",
    "    def __init__(self, name, breed):\n",
    "        self.name = name\n",
    "        self.breed = breed\n",
    "\n",
    "    def bark(self):\n",
    "        print(f\"{self.name} is barking!\")\n",
    "\n",
    "my_dog = Dog(\"Buddy\", \"Golden Retriever\")\n",
    "my_dog.bark()\n"
   ]
  },
  {
   "cell_type": "code",
   "execution_count": 7,
   "id": "2718a4ff-047e-42ac-94a8-d6edd194943e",
   "metadata": {},
   "outputs": [
    {
     "name": "stdout",
     "output_type": "stream",
     "text": [
      "Wolf\n"
     ]
    }
   ],
   "source": [
    "class Dog:\n",
    "    species = \"Canine\"\n",
    "\n",
    "    def __init__(self, name, breed):\n",
    "        self.name = name\n",
    "        self.breed = breed\n",
    "\n",
    "    @classmethod\n",
    "    def set_species(cls, new_species):\n",
    "        cls.species = new_species\n",
    "\n",
    "    @classmethod\n",
    "    def get_species(cls):\n",
    "        return cls.species\n",
    "\n",
    "Dog.set_species(\"Wolf\")\n",
    "print(Dog.get_species())\n"
   ]
  },
  {
   "cell_type": "markdown",
   "id": "7ce1e07f-f965-4551-af3a-ac2132961a91",
   "metadata": {},
   "source": [
    "4.How does Python implement method overloading? Give an example."
   ]
  },
  {
   "cell_type": "markdown",
   "id": "4a5fcda8-901f-4240-93e6-19ce73036fa9",
   "metadata": {},
   "source": [
    " Python does not support method overloading in the traditional sense. In Python, if you define multiple methods with the same name but different parameters, the last definition will overwrite the previous ones.\n",
    "\n",
    "method overloading using this techniques - Default arguments,Variable-length arguments (*args, **kwargs),Type-checking inside the method."
   ]
  },
  {
   "cell_type": "code",
   "execution_count": 11,
   "id": "c8ad8457-6659-49bf-add7-fd6229a0d89b",
   "metadata": {},
   "outputs": [
    {
     "name": "stdout",
     "output_type": "stream",
     "text": [
      "5\n",
      "15\n",
      "30\n",
      "5\n",
      "15\n",
      "30\n",
      "Integer: 10\n",
      "String: Hello\n",
      "Other type: [1, 2, 3]\n"
     ]
    }
   ],
   "source": [
    "class Calculator:\n",
    "    def add(self, a, b=0, c=0):\n",
    "        return a + b + c\n",
    "\n",
    "calc = Calculator()\n",
    "\n",
    "print(calc.add(5))\n",
    "print(calc.add(5, 10))\n",
    "print(calc.add(5, 10, 15))\n",
    "\n",
    "\n",
    "class Calculator:\n",
    "    def add(self, *args):\n",
    "        return sum(args)\n",
    "\n",
    "calc = Calculator()\n",
    "\n",
    "print(calc.add(5))\n",
    "print(calc.add(5, 10))\n",
    "print(calc.add(5, 10, 15))\n",
    "\n",
    "\n",
    "class Printer:\n",
    "    def print_value(self, value):\n",
    "        if isinstance(value, int):\n",
    "            print(f\"Integer: {value}\")\n",
    "        elif isinstance(value, str):\n",
    "            print(f\"String: {value}\")\n",
    "        else:\n",
    "            print(f\"Other type: {value}\")\n",
    "\n",
    "p = Printer()\n",
    "\n",
    "p.print_value(10)\n",
    "p.print_value(\"Hello\")\n",
    "p.print_value([1, 2, 3])\n"
   ]
  },
  {
   "cell_type": "markdown",
   "id": "59d4aac3-3f79-4f48-858e-dc5df4584db6",
   "metadata": {},
   "source": [
    "5.What are the three types of access modifiers in Python? How are they denoted?"
   ]
  },
  {
   "cell_type": "code",
   "execution_count": 18,
   "id": "0d484bec-5855-4cfe-864a-00e2f8361191",
   "metadata": {},
   "outputs": [
    {
     "name": "stdout",
     "output_type": "stream",
     "text": [
      "Toyota\n"
     ]
    }
   ],
   "source": [
    "#Public -Public members are accessible from anywhere, both inside and outside the class.\n",
    "class Car:\n",
    "    def __init__(self, make, model):\n",
    "        self.make = make\n",
    "        self.model = model\n",
    "\n",
    "my_car = Car(\"Toyota\", \"Corolla\")\n",
    "print(my_car.make)\n",
    "\n"
   ]
  },
  {
   "cell_type": "code",
   "execution_count": 20,
   "id": "8f0dca22-3cb4-4b50-9304-02cb6cc5c772",
   "metadata": {},
   "outputs": [
    {
     "name": "stdout",
     "output_type": "stream",
     "text": [
      "SportsCar: Ferrari F8\n"
     ]
    }
   ],
   "source": [
    "#Protected - Protected members are intended for use within the class and its subclasses. By convention, they shouldn't be accessed directly from outside the class,\n",
    "# though Python does not enforce this restriction strictly.denoted by (_)\n",
    "class Car:\n",
    "    def __init__(self, make, model):\n",
    "        self._make = make\n",
    "        self._model = model\n",
    "\n",
    "class SportsCar(Car):\n",
    "    def display_info(self):\n",
    "        print(f\"SportsCar: {self._make} {self._model}\")\n",
    "\n",
    "my_car = SportsCar(\"Ferrari\", \"F8\")\n",
    "my_car.display_info()\n"
   ]
  },
  {
   "cell_type": "code",
   "execution_count": 22,
   "id": "2ad33428-eddb-48b8-b056-5e78e539cdea",
   "metadata": {},
   "outputs": [
    {
     "name": "stdout",
     "output_type": "stream",
     "text": [
      "Car: Tesla Model S\n"
     ]
    }
   ],
   "source": [
    "## Private -  Private members are only accessible within the class they are defined in. Python implements name mangling to make these attributes harder to access from outside the class.\n",
    "# They are not meant to be accessed directly from outside the class.denoted by (__)\n",
    "class Car:\n",
    "    def __init__(self, make, model):\n",
    "        self.__make = make\n",
    "        self.__model = model\n",
    "\n",
    "    def display_info(self):\n",
    "        print(f\"Car: {self.__make} {self.__model}\")\n",
    "\n",
    "my_car = Car(\"Tesla\", \"Model S\")\n",
    "my_car.display_info()\n"
   ]
  },
  {
   "cell_type": "markdown",
   "id": "d8da1569-3eb0-4cbc-8b7a-8620e7d49e6d",
   "metadata": {},
   "source": [
    "6.Describe the five types of inheritance in Python. Provide a simple example of multiple inheritance."
   ]
  },
  {
   "cell_type": "markdown",
   "id": "e2283a50-99fb-4737-9906-19824a17aabf",
   "metadata": {},
   "source": [
    "Single Inheritance - A class inherits from a single parent class.\n",
    "\n",
    "Multiple Inheritance - A class inherits from more than one parent class, combining the functionality of all parent classes.\n",
    "\n",
    "Multilevel Inheritance - A class inherits from a class that has already inherited from another class, creating a chain of inheritance.\n",
    "\n",
    "Hierarchical Inheritance - Multiple classes inherit from the same parent class.\n",
    "\n",
    "Hybrid Inheritance - A combination of two or more types of inheritance (e.g., multiple and hierarchical). This is more complex and can be represented by a mix of various inheritance types."
   ]
  },
  {
   "cell_type": "code",
   "execution_count": 29,
   "id": "ecf8d648-49f6-4d26-8b46-068f6f7cd133",
   "metadata": {},
   "outputs": [
    {
     "name": "stdout",
     "output_type": "stream",
     "text": [
      "Father's trait\n",
      "Mother's trait\n",
      "Child inherits traits\n"
     ]
    }
   ],
   "source": [
    "# example of multiple inheritence\n",
    "class Father:\n",
    "    def show_father(self):\n",
    "        print(\"Father's trait\")\n",
    "\n",
    "class Mother:\n",
    "    def show_mother(self):\n",
    "        print(\"Mother's trait\")\n",
    "\n",
    "class Child(Father, Mother):\n",
    "    def show_child(self):\n",
    "        print(\"Child inherits traits\")\n",
    "\n",
    "child = Child()\n",
    "child.show_father()\n",
    "child.show_mother()\n",
    "child.show_child()"
   ]
  },
  {
   "cell_type": "markdown",
   "id": "2cca3a73-0d71-49f0-9391-be1ea062b0b8",
   "metadata": {},
   "source": [
    "7.What is the Method Resolution Order (MRO) in Python? How can you retrieve it programmatically?"
   ]
  },
  {
   "cell_type": "markdown",
   "id": "6788409e-17e7-43ae-b63a-597ba8d60f58",
   "metadata": {},
   "source": [
    "The Method Resolution Order (MRO) defines the order in which Python looks for a method or attribute in a hierarchy of classes. This is especially important in the context of multiple inheritance, where a class may inherit from more than one parent class."
   ]
  },
  {
   "cell_type": "code",
   "execution_count": 33,
   "id": "f1944d40-ce90-417f-84ec-2a79840ba1f6",
   "metadata": {},
   "outputs": [
    {
     "name": "stdout",
     "output_type": "stream",
     "text": [
      "(<class '__main__.D'>, <class '__main__.B'>, <class '__main__.C'>, <class '__main__.A'>, <class 'object'>)\n",
      "[<class '__main__.D'>, <class '__main__.B'>, <class '__main__.C'>, <class '__main__.A'>, <class 'object'>]\n",
      "Help on class D in module __main__:\n",
      "\n",
      "class D(B, C)\n",
      " |  Method resolution order:\n",
      " |      D\n",
      " |      B\n",
      " |      C\n",
      " |      A\n",
      " |      builtins.object\n",
      " |\n",
      " |  Methods inherited from B:\n",
      " |\n",
      " |  process(self)\n",
      " |\n",
      " |  ----------------------------------------------------------------------\n",
      " |  Data descriptors inherited from A:\n",
      " |\n",
      " |  __dict__\n",
      " |      dictionary for instance variables\n",
      " |\n",
      " |  __weakref__\n",
      " |      list of weak references to the object\n",
      "\n"
     ]
    }
   ],
   "source": [
    "class A:\n",
    "    def process(self):\n",
    "        print(\"A's process method\")\n",
    "\n",
    "class B(A):\n",
    "    def process(self):\n",
    "        print(\"B's process method\")\n",
    "\n",
    "class C(A):\n",
    "    def process(self):\n",
    "        print(\"C's process method\")\n",
    "\n",
    "class D(B, C):\n",
    "    pass\n",
    "\n",
    "# Retrieving MRO programmatically\n",
    "print(D.__mro__)\n",
    "print(D.mro())\n",
    "\n",
    "help(D)"
   ]
  },
  {
   "cell_type": "markdown",
   "id": "8094bb40-3848-46db-9936-737280e7c9f4",
   "metadata": {},
   "source": [
    "8.Create an abstract base class Shape with an abstract method area(). Then create two subclasses Circle and Rectangle that implement the area() method."
   ]
  },
  {
   "cell_type": "code",
   "execution_count": 37,
   "id": "7ecf35fc-5d3a-4747-a399-b1d565c9dc9f",
   "metadata": {},
   "outputs": [
    {
     "name": "stdout",
     "output_type": "stream",
     "text": [
      "Area of the circle: 78.54\n",
      "Area of the rectangle: 24.00\n"
     ]
    }
   ],
   "source": [
    "from abc import ABC, abstractmethod\n",
    "import math\n",
    "\n",
    "class Shape(ABC):\n",
    "\n",
    "    @abstractmethod\n",
    "    def area(self):\n",
    "        pass\n",
    "\n",
    "# Subclass Circle\n",
    "class Circle(Shape):\n",
    "    def __init__(self, radius):\n",
    "        self.radius = radius\n",
    "\n",
    "    def area(self):\n",
    "        return math.pi * self.radius ** 2\n",
    "\n",
    "# Subclass Rectangle\n",
    "class Rectangle(Shape):\n",
    "    def __init__(self, width, height):\n",
    "        self.width = width\n",
    "        self.height = height\n",
    "\n",
    "    def area(self):\n",
    "        return self.width * self.height\n",
    "\n",
    "circle = Circle(5)\n",
    "rectangle = Rectangle(4, 6)\n",
    "\n",
    "print(f\"Area of the circle: {circle.area():.2f}\")\n",
    "print(f\"Area of the rectangle: {rectangle.area():.2f}\")"
   ]
  },
  {
   "cell_type": "markdown",
   "id": "7d23dac5-a880-4e56-ba02-e39f60ff976d",
   "metadata": {},
   "source": [
    "9.Demonstrate polymorphism by creating a function that can work with different shape objects to calculate and print their areas."
   ]
  },
  {
   "cell_type": "code",
   "execution_count": 40,
   "id": "2cc3608d-8d35-4d59-be4d-636440179b64",
   "metadata": {},
   "outputs": [
    {
     "name": "stdout",
     "output_type": "stream",
     "text": [
      "The area of the shape is: 78.54\n",
      "The area of the shape is: 24.00\n",
      "The area of the shape is: 6.00\n"
     ]
    }
   ],
   "source": [
    "from abc import ABC, abstractmethod\n",
    "import math\n",
    "\n",
    "class Shape(ABC):\n",
    "\n",
    "    @abstractmethod\n",
    "    def area(self):\n",
    "        pass\n",
    "\n",
    "class Circle(Shape):\n",
    "    def __init__(self, radius):\n",
    "        self.radius = radius\n",
    "\n",
    "    def area(self):\n",
    "        return math.pi * self.radius ** 2\n",
    "\n",
    "class Rectangle(Shape):\n",
    "    def __init__(self, width, height):\n",
    "        self.width = width\n",
    "        self.height = height\n",
    "\n",
    "    def area(self):\n",
    "        return self.width * self.height\n",
    "\n",
    "class Triangle(Shape):\n",
    "    def __init__(self, base, height):\n",
    "        self.base = base\n",
    "        self.height = height\n",
    "\n",
    "    def area(self):\n",
    "        return 0.5 * self.base * self.height\n",
    "\n",
    "def print_area(shape):\n",
    "    print(f\"The area of the shape is: {shape.area():.2f}\")\n",
    "\n",
    "circle = Circle(5)\n",
    "rectangle = Rectangle(4, 6)\n",
    "triangle = Triangle(3, 4)\n",
    "triangle = Triangle(3, 4)\n",
    "\n",
    "print_area(circle)\n",
    "print_area(rectangle)\n",
    "print_area(triangle)"
   ]
  },
  {
   "cell_type": "markdown",
   "id": "da5a72f7-3210-4c53-89c3-6760c988afb5",
   "metadata": {},
   "source": [
    "10.Implement encapsulation in a BankAccount class with private attributes for balance and account_number. Include methods for deposit, withdrawal, and balance inquiry."
   ]
  },
  {
   "cell_type": "code",
   "execution_count": 43,
   "id": "07add8c7-03c0-472e-96c3-90506f566f60",
   "metadata": {},
   "outputs": [
    {
     "name": "stdout",
     "output_type": "stream",
     "text": [
      "Deposited 500. New balance: 1500\n",
      "Withdrew 300. New balance: 1200\n",
      "Balance: 1200\n"
     ]
    }
   ],
   "source": [
    "class BankAccount:\n",
    "    def __init__(self, account_number, initial_balance=0):\n",
    "        self.__account_number = account_number\n",
    "        self.__balance = initial_balance\n",
    "\n",
    "    # Method to deposit money\n",
    "    def deposit(self, amount):\n",
    "        if amount > 0:\n",
    "            self.__balance += amount\n",
    "            print(f\"Deposited {amount}. New balance: {self.__balance}\")\n",
    "        else:\n",
    "            print(\"Deposit amount must be positive.\")\n",
    "\n",
    "    # Method to withdraw money\n",
    "    def withdraw(self, amount):\n",
    "        if 0 < amount <= self.__balance:\n",
    "            self.__balance -= amount\n",
    "            print(f\"Withdrew {amount}. New balance: {self.__balance}\")\n",
    "        else:\n",
    "            print(\"Insufficient balance or invalid amount.\")\n",
    "\n",
    "    # Method to check balance (getter for balance)\n",
    "    def get_balance(self):\n",
    "        return self.__balance\n",
    "\n",
    "    # Method to check account number (getter for account number)\n",
    "    def get_account_number(self):\n",
    "        return self.__account_number\n",
    "\n",
    "account = BankAccount(\"123456789\", 1000)\n",
    "\n",
    "# Making a deposit\n",
    "account.deposit(500)\n",
    "\n",
    "# Trying to withdraw money\n",
    "account.withdraw(300)\n",
    "\n",
    "# Balance inquiry\n",
    "print(f\"Balance: {account.get_balance()}\")"
   ]
  },
  {
   "cell_type": "markdown",
   "id": "db8ffc26-70a7-4074-9373-268ebe2c6aef",
   "metadata": {},
   "source": [
    "11.Write a class that overrides the __str__ and __add__ magic methods. What will these methods allow you to do?"
   ]
  },
  {
   "cell_type": "code",
   "execution_count": 46,
   "id": "d55a7662-d0ab-49e4-89f3-7fddb35d6fad",
   "metadata": {},
   "outputs": [
    {
     "name": "stdout",
     "output_type": "stream",
     "text": [
      "'1984' by George Orwell, 328 pages\n",
      "Total pages: 639\n"
     ]
    }
   ],
   "source": [
    "#The __str__() method allows you to define how objects of your class are printed.\n",
    "#The __add__() method allows you to define what happens when you add two objects of your class using the + operator, enabling custom behavior for operations like addition.\n",
    "class Book:\n",
    "    def __init__(self, title, author, pages):\n",
    "        self.title = title\n",
    "        self.author = author\n",
    "        self.pages = pages\n",
    "\n",
    "    # Overriding __str__ method to control how the object is printed\n",
    "    def __str__(self):\n",
    "        return f\"'{self.title}' by {self.author}, {self.pages} pages\"\n",
    "\n",
    "    # Overriding __add__ method to add pages of two books\n",
    "    def __add__(self, other):\n",
    "        if isinstance(other, Book):\n",
    "            return self.pages + other.pages\n",
    "        return NotImplemented\n",
    "\n",
    "book1 = Book(\"1984\", \"George Orwell\", 328)\n",
    "book2 = Book(\"Brave New World\", \"Aldous Huxley\", 311)\n",
    "\n",
    "print(book1)\n",
    "\n",
    "total_pages = book1 + book2\n",
    "print(f\"Total pages: {total_pages}\")"
   ]
  },
  {
   "cell_type": "markdown",
   "id": "17345e75-74c9-4301-bf18-cb43b27e2e40",
   "metadata": {},
   "source": [
    "12.Create a decorator that measures and prints the execution time of a function."
   ]
  },
  {
   "cell_type": "code",
   "execution_count": 49,
   "id": "74e47c30-43c2-48ba-8520-db572a511b3a",
   "metadata": {},
   "outputs": [
    {
     "name": "stdout",
     "output_type": "stream",
     "text": [
      "Function 'example_function' executed in 0.1925 seconds\n",
      "Result: 499999500000\n"
     ]
    }
   ],
   "source": [
    "import time\n",
    "\n",
    "def timing_decorator(func):\n",
    "    def wrapper(*args, **kwargs):\n",
    "        start_time = time.time()\n",
    "        result = func(*args, **kwargs)\n",
    "        end_time = time.time()\n",
    "        execution_time = end_time - start_time\n",
    "        print(f\"Function '{func.__name__}' executed in {execution_time:.4f} seconds\")\n",
    "        return result\n",
    "    return wrapper\n",
    "\n",
    "@timing_decorator\n",
    "def example_function(n):\n",
    "    total = 0\n",
    "    for i in range(n):\n",
    "        total += i\n",
    "    return total\n",
    "\n",
    "result = example_function(1000000)\n",
    "print(f\"Result: {result}\")"
   ]
  },
  {
   "cell_type": "markdown",
   "id": "6c5a1479-892e-4ed2-a75b-fabb346bbc96",
   "metadata": {},
   "source": [
    "13.Explain the concept of the Diamond Problem in multiple inheritance. How does Python resolve it?\n"
   ]
  },
  {
   "cell_type": "code",
   "execution_count": 52,
   "id": "cf4a3433-7f84-4806-b922-a82e1e5325bc",
   "metadata": {},
   "outputs": [
    {
     "name": "stdout",
     "output_type": "stream",
     "text": [
      "Hello from B\n",
      "[<class '__main__.D'>, <class '__main__.B'>, <class '__main__.C'>, <class '__main__.A'>, <class 'object'>]\n"
     ]
    }
   ],
   "source": [
    "#The Diamond Problem arises in the context of multiple inheritance, where a class inherits from two or more classes that have a common ancestor.\n",
    "#The issue gets its name from the diamond-shaped structure formed when diagramming this inheritance hierarchy.\n",
    "#Python uses the Method Resolution Order (MRO) to resolve this ambiguity. The MRO determines the order in which classes are searched for a method or attribute.\n",
    "#Python follows the C3 Linearization Algorithm (also known as C3 superclass linearization) to calculate the MRO in such a way that the diamond problem is resolved consistently.\n",
    "\n",
    "class A:\n",
    "    def greet(self):\n",
    "        print(\"Hello from A\")\n",
    "\n",
    "class B(A):\n",
    "    def greet(self):\n",
    "        print(\"Hello from B\")\n",
    "\n",
    "class C(A):\n",
    "    def greet(self):\n",
    "        print(\"Hello from C\")\n",
    "\n",
    "class D(B, C):\n",
    "    pass\n",
    "\n",
    "d = D()\n",
    "d.greet()\n",
    "print(D.mro())"
   ]
  },
  {
   "cell_type": "markdown",
   "id": "bf3c5eac-f708-4999-8086-52e9d4742374",
   "metadata": {},
   "source": [
    "14.Write a class method that keeps track of the number of instances created from a class."
   ]
  },
  {
   "cell_type": "code",
   "execution_count": 55,
   "id": "4654372d-a721-4a78-a507-8f4890c28bd9",
   "metadata": {},
   "outputs": [
    {
     "name": "stdout",
     "output_type": "stream",
     "text": [
      "3\n"
     ]
    }
   ],
   "source": [
    "class InstanceCounter:\n",
    "    instance_count = 0\n",
    "\n",
    "    def __init__(self):\n",
    "        InstanceCounter.instance_count += 1\n",
    "\n",
    "    @classmethod\n",
    "    def get_instance_count(cls):\n",
    "        return cls.instance_count\n",
    "\n",
    "obj1 = InstanceCounter()\n",
    "obj2 = InstanceCounter()\n",
    "obj3 = InstanceCounter()\n",
    "\n",
    "print(InstanceCounter.get_instance_count())\n",
    "\n",
    "     "
   ]
  },
  {
   "cell_type": "markdown",
   "id": "e7da4ef0-cabb-4227-b17e-b7741fb50dc0",
   "metadata": {},
   "source": [
    "15.Implement a static method in a class that checks if a given year is a leap year."
   ]
  },
  {
   "cell_type": "code",
   "execution_count": 60,
   "id": "4f25628f-00bd-4d26-9d2a-4db8a070471f",
   "metadata": {},
   "outputs": [
    {
     "name": "stdout",
     "output_type": "stream",
     "text": [
      "True\n",
      "False\n",
      "True\n"
     ]
    }
   ],
   "source": [
    "class YearChecker:\n",
    "    @staticmethod\n",
    "    def is_leap_year(year):\n",
    "        if (year % 4 == 0 and year % 100 != 0) or (year % 400 == 0):\n",
    "            return True\n",
    "        else:\n",
    "            return False\n",
    "\n",
    "print(YearChecker.is_leap_year(2024))\n",
    "print(YearChecker.is_leap_year(1900))\n",
    "print(YearChecker.is_leap_year(2000))\n"
   ]
  }
 ],
 "metadata": {
  "kernelspec": {
   "display_name": "Python 3 (ipykernel)",
   "language": "python",
   "name": "python3"
  },
  "language_info": {
   "codemirror_mode": {
    "name": "ipython",
    "version": 3
   },
   "file_extension": ".py",
   "mimetype": "text/x-python",
   "name": "python",
   "nbconvert_exporter": "python",
   "pygments_lexer": "ipython3",
   "version": "3.12.4"
  }
 },
 "nbformat": 4,
 "nbformat_minor": 5
}
